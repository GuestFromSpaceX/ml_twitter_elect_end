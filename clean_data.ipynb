{
 "cells": [
  {
   "cell_type": "code",
   "execution_count": 1,
   "metadata": {},
   "outputs": [],
   "source": [
    "import pandas as pd \n",
    "import numpy as np "
   ]
  },
  {
   "cell_type": "code",
   "execution_count": 7,
   "metadata": {},
   "outputs": [
    {
     "data": {
      "text/html": [
       "<div>\n",
       "<style scoped>\n",
       "    .dataframe tbody tr th:only-of-type {\n",
       "        vertical-align: middle;\n",
       "    }\n",
       "\n",
       "    .dataframe tbody tr th {\n",
       "        vertical-align: top;\n",
       "    }\n",
       "\n",
       "    .dataframe thead th {\n",
       "        text-align: right;\n",
       "    }\n",
       "</style>\n",
       "<table border=\"1\" class=\"dataframe\">\n",
       "  <thead>\n",
       "    <tr style=\"text-align: right;\">\n",
       "      <th></th>\n",
       "      <th>id</th>\n",
       "      <th>keyword</th>\n",
       "      <th>location</th>\n",
       "      <th>text</th>\n",
       "      <th>target</th>\n",
       "    </tr>\n",
       "  </thead>\n",
       "  <tbody>\n",
       "    <tr>\n",
       "      <th>0</th>\n",
       "      <td>1</td>\n",
       "      <td>NaN</td>\n",
       "      <td>NaN</td>\n",
       "      <td>Our Deeds are the Reason of this #earthquake M...</td>\n",
       "      <td>1</td>\n",
       "    </tr>\n",
       "    <tr>\n",
       "      <th>1</th>\n",
       "      <td>4</td>\n",
       "      <td>NaN</td>\n",
       "      <td>NaN</td>\n",
       "      <td>Forest fire near La Ronge Sask. Canada</td>\n",
       "      <td>1</td>\n",
       "    </tr>\n",
       "    <tr>\n",
       "      <th>2</th>\n",
       "      <td>5</td>\n",
       "      <td>NaN</td>\n",
       "      <td>NaN</td>\n",
       "      <td>All residents asked to 'shelter in place' are ...</td>\n",
       "      <td>1</td>\n",
       "    </tr>\n",
       "    <tr>\n",
       "      <th>3</th>\n",
       "      <td>6</td>\n",
       "      <td>NaN</td>\n",
       "      <td>NaN</td>\n",
       "      <td>13,000 people receive #wildfires evacuation or...</td>\n",
       "      <td>1</td>\n",
       "    </tr>\n",
       "    <tr>\n",
       "      <th>4</th>\n",
       "      <td>7</td>\n",
       "      <td>NaN</td>\n",
       "      <td>NaN</td>\n",
       "      <td>Just got sent this photo from Ruby #Alaska as ...</td>\n",
       "      <td>1</td>\n",
       "    </tr>\n",
       "    <tr>\n",
       "      <th>...</th>\n",
       "      <td>...</td>\n",
       "      <td>...</td>\n",
       "      <td>...</td>\n",
       "      <td>...</td>\n",
       "      <td>...</td>\n",
       "    </tr>\n",
       "    <tr>\n",
       "      <th>7608</th>\n",
       "      <td>10869</td>\n",
       "      <td>NaN</td>\n",
       "      <td>NaN</td>\n",
       "      <td>Two giant cranes holding a bridge collapse int...</td>\n",
       "      <td>1</td>\n",
       "    </tr>\n",
       "    <tr>\n",
       "      <th>7609</th>\n",
       "      <td>10870</td>\n",
       "      <td>NaN</td>\n",
       "      <td>NaN</td>\n",
       "      <td>@aria_ahrary @TheTawniest The out of control w...</td>\n",
       "      <td>1</td>\n",
       "    </tr>\n",
       "    <tr>\n",
       "      <th>7610</th>\n",
       "      <td>10871</td>\n",
       "      <td>NaN</td>\n",
       "      <td>NaN</td>\n",
       "      <td>M1.94 [01:04 UTC]?5km S of Volcano Hawaii. htt...</td>\n",
       "      <td>1</td>\n",
       "    </tr>\n",
       "    <tr>\n",
       "      <th>7611</th>\n",
       "      <td>10872</td>\n",
       "      <td>NaN</td>\n",
       "      <td>NaN</td>\n",
       "      <td>Police investigating after an e-bike collided ...</td>\n",
       "      <td>1</td>\n",
       "    </tr>\n",
       "    <tr>\n",
       "      <th>7612</th>\n",
       "      <td>10873</td>\n",
       "      <td>NaN</td>\n",
       "      <td>NaN</td>\n",
       "      <td>The Latest: More Homes Razed by Northern Calif...</td>\n",
       "      <td>1</td>\n",
       "    </tr>\n",
       "  </tbody>\n",
       "</table>\n",
       "<p>7613 rows × 5 columns</p>\n",
       "</div>"
      ],
      "text/plain": [
       "         id keyword location   \n",
       "0         1     NaN      NaN  \\\n",
       "1         4     NaN      NaN   \n",
       "2         5     NaN      NaN   \n",
       "3         6     NaN      NaN   \n",
       "4         7     NaN      NaN   \n",
       "...     ...     ...      ...   \n",
       "7608  10869     NaN      NaN   \n",
       "7609  10870     NaN      NaN   \n",
       "7610  10871     NaN      NaN   \n",
       "7611  10872     NaN      NaN   \n",
       "7612  10873     NaN      NaN   \n",
       "\n",
       "                                                   text  target  \n",
       "0     Our Deeds are the Reason of this #earthquake M...       1  \n",
       "1                Forest fire near La Ronge Sask. Canada       1  \n",
       "2     All residents asked to 'shelter in place' are ...       1  \n",
       "3     13,000 people receive #wildfires evacuation or...       1  \n",
       "4     Just got sent this photo from Ruby #Alaska as ...       1  \n",
       "...                                                 ...     ...  \n",
       "7608  Two giant cranes holding a bridge collapse int...       1  \n",
       "7609  @aria_ahrary @TheTawniest The out of control w...       1  \n",
       "7610  M1.94 [01:04 UTC]?5km S of Volcano Hawaii. htt...       1  \n",
       "7611  Police investigating after an e-bike collided ...       1  \n",
       "7612  The Latest: More Homes Razed by Northern Calif...       1  \n",
       "\n",
       "[7613 rows x 5 columns]"
      ]
     },
     "execution_count": 7,
     "metadata": {},
     "output_type": "execute_result"
    }
   ],
   "source": [
    "df = pd.read_csv('./accident.csv')\n",
    "df"
   ]
  },
  {
   "cell_type": "code",
   "execution_count": 42,
   "metadata": {},
   "outputs": [
    {
     "name": "stdout",
     "output_type": "stream",
     "text": [
      "id           int64\n",
      "keyword     object\n",
      "location    object\n",
      "text        object\n",
      "target       int64\n",
      "dtype: object\n"
     ]
    }
   ],
   "source": [
    "print(df.dtypes)\n"
   ]
  },
  {
   "cell_type": "code",
   "execution_count": 56,
   "metadata": {},
   "outputs": [
    {
     "name": "stdout",
     "output_type": "stream",
     "text": [
      "The Latest: More Homes Razed by Northern California Wildfire - ABC News http://t.co/YmY4rSkQ3d\n"
     ]
    }
   ],
   "source": [
    "text_column_list = [df['text'][elem] for elem in range(0, 7613)]\n",
    "print(text_column_list[7612])"
   ]
  },
  {
   "attachments": {},
   "cell_type": "markdown",
   "metadata": {},
   "source": [
    "Нужно проверить, есть ли повторяющиеся значения в колонке text."
   ]
  },
  {
   "cell_type": "code",
   "execution_count": 9,
   "metadata": {},
   "outputs": [
    {
     "name": "stdout",
     "output_type": "stream",
     "text": [
      "Empty DataFrame\n",
      "Columns: [id, keyword, location, text, target]\n",
      "Index: []\n"
     ]
    }
   ],
   "source": [
    "duplicates = df.duplicated()\n",
    "print(df[duplicates])"
   ]
  },
  {
   "attachments": {},
   "cell_type": "markdown",
   "metadata": {},
   "source": [
    "На самом деле повторяющиеся значения есть. это происходит из-за ссылок. http/https . но я боюсь удалять их вслепую, вдруг они могут удалить нужные части. \n",
    "Тогда я сперва проверю, какие символы встречаются, удалю лишние."
   ]
  },
  {
   "cell_type": "code",
   "execution_count": 10,
   "metadata": {},
   "outputs": [],
   "source": [
    "from collections import Counter"
   ]
  },
  {
   "cell_type": "code",
   "execution_count": 85,
   "metadata": {},
   "outputs": [
    {
     "name": "stdout",
     "output_type": "stream",
     "text": [
      "O 3177\n",
      "u 15535\n",
      "r 31490\n",
      "  106041\n",
      "D 3115\n",
      "e 55430\n",
      "d 18807\n",
      "s 31218\n",
      "a 41792\n",
      "t 51181\n",
      "h 23940\n",
      "R 3413\n",
      "o 42307\n",
      "n 33657\n",
      "f 10002\n",
      "i 35687\n",
      "# 3403\n",
      "q 1126\n",
      "k 6320\n",
      "M 3596\n",
      "y 10702\n",
      "A 4850\n",
      "L 2876\n",
      "H 2996\n",
      "F 2661\n",
      "g 11443\n",
      "v 5854\n",
      "l 22611\n",
      "S 5088\n",
      ". 11696\n",
      "C 3856\n",
      "' 3157\n",
      "p 14128\n",
      "c 18648\n",
      "b 8436\n",
      "N 3295\n",
      "x 1877\n",
      "1 2252\n",
      "3 1520\n",
      ", 2\n",
      "0 2456\n",
      "w 8962\n",
      "J 1455\n",
      "m 13399\n",
      "U 1846\n",
      "= 53\n",
      "> 1\n",
      "2 1706\n",
      "- 1753\n",
      "I 5007\n",
      "T 5168\n",
      "W 2790\n",
      "E 3688\n",
      "V 1448\n",
      "P 3000\n",
      "G 2208\n",
      "K 1575\n",
      "B 3094\n",
      "8 1133\n",
      "9 1234\n",
      "? 3126\n",
      "! 1173\n",
      "; 587\n",
      ") 373\n",
      "Y 1607\n",
      ": 6910\n",
      "@ 2759\n",
      "z 1516\n",
      "/ 14585\n",
      "X 913\n",
      "6 1166\n",
      "Z 930\n",
      " 797\n",
      "Û 794\n",
      "Ò 45\n",
      "Ó 33\n",
      "j 1767\n",
      "Q 848\n",
      "4 1311\n",
      "7 1238\n",
      "\n",
      " 946\n",
      "5 1517\n",
      "å 96\n",
      "Ê 66\n",
      "_ 863\n",
      "& 457\n",
      "( 349\n",
      "[ 132\n",
      "] 131\n",
      "| 152\n",
      "* 179\n",
      "ã 2\n",
      "¢ 10\n",
      "$ 44\n",
      "Ï 69\n",
      " 44\n",
      "ª 191\n",
      "+ 80\n",
      "÷ 49\n",
      "Ì 27\n",
      "Ñ 3\n",
      "% 46\n",
      "~ 37\n",
      "£ 6\n",
      "¤ 3\n",
      "} 4\n",
      "ü 2\n",
      "´ 1\n",
      "Ç 2\n",
      "È 5\n",
      "â 1\n",
      "Â 1\n",
      "^ 6\n",
      "¨ 6\n",
      "© 10\n",
      "« 2\n",
      "\\ 5\n",
      "¬ 1\n",
      "¼ 5\n",
      "¡ 3\n",
      "` 3\n",
      "{ 3\n"
     ]
    }
   ],
   "source": [
    "text_column = df['text']\n",
    "\n",
    "all_text = ''.join(text_column)\n",
    "\n",
    "symbol_counts = Counter(all_text)\n",
    "\n",
    "for symbol, count in symbol_counts.items():\n",
    "    print(symbol, count)"
   ]
  },
  {
   "attachments": {},
   "cell_type": "markdown",
   "metadata": {},
   "source": [
    "Найдено множество странных символов, которые я заменю"
   ]
  },
  {
   "cell_type": "code",
   "execution_count": null,
   "metadata": {},
   "outputs": [],
   "source": [
    "symbols_to_replace = ['', '', '', '', '', '', '', '', '', '&', '?', '=', '#', ',', '>', 'Û', 'Ò', 'Ó', 'å', 'Ê', 'ã', 'Ï', 'ª', 'Ì', 'Ñ', '~', '£', '¤', '}', 'ü', '´', 'Ç', 'È', 'â', 'Â', '^', '¨', '©', '«', '\\\\', '¬', '¼', '¡', '`', '{' ]\n",
    "symbols_to_replace"
   ]
  },
  {
   "cell_type": "code",
   "execution_count": 59,
   "metadata": {},
   "outputs": [
    {
     "data": {
      "text/plain": [
       "'Barbados #Bridgetown JAMAICA \\x89ÛÒ Two cars set ablaze: SANTA CRUZ \\x89ÛÓ Head of the St Elizabeth Police Superintende...  http://t.co/wDUEaj8Q4J'"
      ]
     },
     "execution_count": 59,
     "metadata": {},
     "output_type": "execute_result"
    }
   ],
   "source": [
    "text_column_list[38]"
   ]
  },
  {
   "cell_type": "code",
   "execution_count": 60,
   "metadata": {},
   "outputs": [
    {
     "ename": "TypeError",
     "evalue": "replace() argument 1 must be str, not list",
     "output_type": "error",
     "traceback": [
      "\u001b[0;31m---------------------------------------------------------------------------\u001b[0m",
      "\u001b[0;31mTypeError\u001b[0m                                 Traceback (most recent call last)",
      "\u001b[1;32m/Users/semenermolinskij/Projects/ml_twitter_elect_end/clean_data.ipynb Cell 13\u001b[0m in \u001b[0;36m2\n\u001b[1;32m      <a href='vscode-notebook-cell:/Users/semenermolinskij/Projects/ml_twitter_elect_end/clean_data.ipynb#X12sZmlsZQ%3D%3D?line=0'>1</a>\u001b[0m \u001b[39mfor\u001b[39;00m elem \u001b[39min\u001b[39;00m \u001b[39mrange\u001b[39m(\u001b[39m0\u001b[39m, \u001b[39mlen\u001b[39m(text_column_list)\u001b[39m+\u001b[39m\u001b[39m1\u001b[39m):\n\u001b[0;32m----> <a href='vscode-notebook-cell:/Users/semenermolinskij/Projects/ml_twitter_elect_end/clean_data.ipynb#X12sZmlsZQ%3D%3D?line=1'>2</a>\u001b[0m     text_column_list[elem] \u001b[39m=\u001b[39m text_column_list[elem]\u001b[39m.\u001b[39;49mreplace(symbols_to_replace, \u001b[39m'\u001b[39;49m\u001b[39m'\u001b[39;49m)\n\u001b[1;32m      <a href='vscode-notebook-cell:/Users/semenermolinskij/Projects/ml_twitter_elect_end/clean_data.ipynb#X12sZmlsZQ%3D%3D?line=2'>3</a>\u001b[0m \u001b[39mprint\u001b[39m(text_column_list[\u001b[39m39\u001b[39m])\n",
      "\u001b[0;31mTypeError\u001b[0m: replace() argument 1 must be str, not list"
     ]
    }
   ],
   "source": [
    "for elem in range(len(text_column_list)):\n",
    "    text_column_list[elem] = text_column_list[elem].replace(symbols_to_replace, '')\n",
    "print(text_column_list[39])"
   ]
  },
  {
   "attachments": {},
   "cell_type": "markdown",
   "metadata": {},
   "source": [
    "Предполагаю теперь, что лишних символов нет."
   ]
  },
  {
   "cell_type": "code",
   "execution_count": 86,
   "metadata": {},
   "outputs": [
    {
     "data": {
      "text/plain": [
       "'Barbados #Bridgetown JAMAICA \\x89   Two cars set ablaze: SANTA CRUZ \\x89   Head of the St Elizabeth Police Superintende...  http://t.co/wDUEaj8Q4J'"
      ]
     },
     "execution_count": 86,
     "metadata": {},
     "output_type": "execute_result"
    }
   ],
   "source": [
    "#очистка данных от мусора\n",
    "symbols_to_safe = [',', '>', 'Û', 'Ò', 'Ó', 'å', 'Ê', 'ã', 'Ï', 'ª', 'Ì', 'Ñ', '~', '£', '¤', '}', 'ü', '´', 'Ç', 'È', 'â', 'Â', '^', '¨', '©', '«', '\\\\', '¬', '¼', '¡', '`', '{' ]\n",
    "temp_text_list = []\n",
    "for elem in text_column_list:\n",
    "    elem_list = list(elem)\n",
    "    for i in range(0, len(elem_list)-1):\n",
    "        if elem_list[i] in symbols_to_replace:\n",
    "            elem_list[i] = ' '\n",
    "    added_elem = ''.join(elem_list)   \n",
    "    temp_text_list.append(added_elem)\n",
    "temp_text_list[38]"
   ]
  },
  {
   "cell_type": "code",
   "execution_count": 84,
   "metadata": {},
   "outputs": [
    {
     "data": {
      "text/plain": [
       "'Barbados #Bridgetown JAMAICA \\x89 Two cars set ablaze: SANTA CRUZ \\x89 Head of the St Elizabeth Police Superintende...  http://t.co/wDUEaj8Q4J'"
      ]
     },
     "execution_count": 84,
     "metadata": {},
     "output_type": "execute_result"
    }
   ],
   "source": [
    "temp_text_list[38]"
   ]
  }
 ],
 "metadata": {
  "kernelspec": {
   "display_name": "Python 3",
   "language": "python",
   "name": "python3"
  },
  "language_info": {
   "codemirror_mode": {
    "name": "ipython",
    "version": 3
   },
   "file_extension": ".py",
   "mimetype": "text/x-python",
   "name": "python",
   "nbconvert_exporter": "python",
   "pygments_lexer": "ipython3",
   "version": "3.9.13"
  },
  "orig_nbformat": 4
 },
 "nbformat": 4,
 "nbformat_minor": 2
}
