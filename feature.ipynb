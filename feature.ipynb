{
 "cells": [
  {
   "cell_type": "code",
   "execution_count": 1,
   "metadata": {},
   "outputs": [],
   "source": [
    "import pandas as pd \n",
    "import numpy as np "
   ]
  },
  {
   "cell_type": "code",
   "execution_count": 2,
   "metadata": {},
   "outputs": [],
   "source": [
    "#отображение всего датафрейма\n",
    "pd.set_option('display.max_rows', None)"
   ]
  },
  {
   "cell_type": "code",
   "execution_count": 3,
   "metadata": {},
   "outputs": [],
   "source": [
    "#отключить отображение всего датафрейма\n",
    "pd.reset_option('display.max_rows')"
   ]
  },
  {
   "cell_type": "code",
   "execution_count": 4,
   "metadata": {},
   "outputs": [
    {
     "name": "stdout",
     "output_type": "stream",
     "text": [
      "      Unnamed: 0  origin_id   \n",
      "0           5853       8364  \\\n",
      "1            140        201   \n",
      "2           7050      10101   \n",
      "3           2589       3717   \n",
      "4           5658       8070   \n",
      "...          ...        ...   \n",
      "5043        6520       9324   \n",
      "5044        1874       2693   \n",
      "5045        6563       9391   \n",
      "5046        2190       3138   \n",
      "5047         333        480   \n",
      "\n",
      "                                        text_normalized  target  \n",
      "0                               ruin holiday wordk zmne       0  \n",
      "1         awwww airplane accident gon na die cuties job       1  \n",
      "2                    think typhoon just passed here lol       1  \n",
      "3     flood people dead house destroyed kaduna peopl...       1  \n",
      "4                                length rescue cat need       0  \n",
      "...                                                 ...     ...  \n",
      "5043  help survive zombie apocalypse zombie fun run ...       0  \n",
      "5044                              men crush fucking day       0  \n",
      "5045      setsuko thurlow survived hiroshima bomb story       1  \n",
      "5046  kamindoz reuters debris confirmed relative hop...       1  \n",
      "5047    sadly window reveals microsoft ethic armageddon       0  \n",
      "\n",
      "[5048 rows x 4 columns]       Unnamed: 0  origin_id   \n",
      "0              2          5  \\\n",
      "1              3          6   \n",
      "2              4          7   \n",
      "3              5          8   \n",
      "4              9         15   \n",
      "...          ...        ...   \n",
      "1677        7586      10840   \n",
      "1678        7587      10841   \n",
      "1679        7589      10843   \n",
      "1680        7591      10846   \n",
      "1681        7594      10849   \n",
      "\n",
      "                                        text_normalized  target  \n",
      "0     resident asked shelter place being notified of...       1  \n",
      "1     people receive wildfire evacuation order calif...       1  \n",
      "2     just photo ruby alaska smoke wildfire pours sc...       1  \n",
      "3     rockyfire update california hwy closed directi...       1  \n",
      "4                            afraid tornado coming area       1  \n",
      "...                                                 ...     ...  \n",
      "1677  sismo detectado jap seismic intensity iwate mi...       1  \n",
      "1678                                              siren       0  \n",
      "1679                                     omg earthquake       1  \n",
      "1680  heat wave warning ayyo dei just plan visit fri...       1  \n",
      "1681  gas just exploded heard scream now whole stree...       1  \n",
      "\n",
      "[1682 rows x 4 columns]\n"
     ]
    }
   ],
   "source": [
    "df_train = pd.read_csv('./new_data/train_accident_normalized_text.csv')\n",
    "df_test = pd.read_csv('./new_data/test_accident_normalized_text.csv')\n",
    "print(df_train, df_test)"
   ]
  },
  {
   "cell_type": "code",
   "execution_count": 5,
   "metadata": {},
   "outputs": [
    {
     "name": "stdout",
     "output_type": "stream",
     "text": [
      "Unnamed: 0          int64\n",
      "origin_id           int64\n",
      "text_normalized    object\n",
      "target              int64\n",
      "dtype: object\n",
      "Unnamed: 0          int64\n",
      "origin_id           int64\n",
      "text_normalized    object\n",
      "target              int64\n",
      "dtype: object\n"
     ]
    }
   ],
   "source": [
    "print(df_test.dtypes)\n",
    "print(df_train.dtypes)"
   ]
  },
  {
   "cell_type": "code",
   "execution_count": 6,
   "metadata": {},
   "outputs": [
    {
     "data": {
      "text/html": [
       "<div>\n",
       "<style scoped>\n",
       "    .dataframe tbody tr th:only-of-type {\n",
       "        vertical-align: middle;\n",
       "    }\n",
       "\n",
       "    .dataframe tbody tr th {\n",
       "        vertical-align: top;\n",
       "    }\n",
       "\n",
       "    .dataframe thead th {\n",
       "        text-align: right;\n",
       "    }\n",
       "</style>\n",
       "<table border=\"1\" class=\"dataframe\">\n",
       "  <thead>\n",
       "    <tr style=\"text-align: right;\">\n",
       "      <th></th>\n",
       "      <th>Unnamed: 0</th>\n",
       "      <th>origin_id</th>\n",
       "      <th>text_normalized</th>\n",
       "      <th>target</th>\n",
       "    </tr>\n",
       "  </thead>\n",
       "  <tbody>\n",
       "    <tr>\n",
       "      <th>0</th>\n",
       "      <td>0</td>\n",
       "      <td>1</td>\n",
       "      <td>deed reason earthquake may allah forgive</td>\n",
       "      <td>1</td>\n",
       "    </tr>\n",
       "    <tr>\n",
       "      <th>1</th>\n",
       "      <td>1</td>\n",
       "      <td>4</td>\n",
       "      <td>forest fire near ronge sask canada</td>\n",
       "      <td>1</td>\n",
       "    </tr>\n",
       "    <tr>\n",
       "      <th>2</th>\n",
       "      <td>2</td>\n",
       "      <td>5</td>\n",
       "      <td>resident asked shelter place being notified of...</td>\n",
       "      <td>1</td>\n",
       "    </tr>\n",
       "    <tr>\n",
       "      <th>3</th>\n",
       "      <td>3</td>\n",
       "      <td>6</td>\n",
       "      <td>people receive wildfire evacuation order calif...</td>\n",
       "      <td>1</td>\n",
       "    </tr>\n",
       "    <tr>\n",
       "      <th>4</th>\n",
       "      <td>4</td>\n",
       "      <td>7</td>\n",
       "      <td>just photo ruby alaska smoke wildfire pours sc...</td>\n",
       "      <td>1</td>\n",
       "    </tr>\n",
       "    <tr>\n",
       "      <th>...</th>\n",
       "      <td>...</td>\n",
       "      <td>...</td>\n",
       "      <td>...</td>\n",
       "      <td>...</td>\n",
       "    </tr>\n",
       "    <tr>\n",
       "      <th>6725</th>\n",
       "      <td>7601</td>\n",
       "      <td>10859</td>\n",
       "      <td>breaking refugio oil spill may costlier bigger...</td>\n",
       "      <td>1</td>\n",
       "    </tr>\n",
       "    <tr>\n",
       "      <th>6726</th>\n",
       "      <td>7602</td>\n",
       "      <td>10860</td>\n",
       "      <td>siren just went wasn forney tornado warning</td>\n",
       "      <td>1</td>\n",
       "    </tr>\n",
       "    <tr>\n",
       "      <th>6727</th>\n",
       "      <td>7603</td>\n",
       "      <td>10862</td>\n",
       "      <td>official say quarantine place alabama home pos...</td>\n",
       "      <td>1</td>\n",
       "    </tr>\n",
       "    <tr>\n",
       "      <th>6728</th>\n",
       "      <td>7605</td>\n",
       "      <td>10864</td>\n",
       "      <td>flip side walmart bomb evacuate stay tuned blow</td>\n",
       "      <td>1</td>\n",
       "    </tr>\n",
       "    <tr>\n",
       "      <th>6729</th>\n",
       "      <td>7606</td>\n",
       "      <td>10866</td>\n",
       "      <td>suicide bomber kill saudi security site mosque...</td>\n",
       "      <td>1</td>\n",
       "    </tr>\n",
       "  </tbody>\n",
       "</table>\n",
       "<p>6730 rows × 4 columns</p>\n",
       "</div>"
      ],
      "text/plain": [
       "      Unnamed: 0  origin_id   \n",
       "0              0          1  \\\n",
       "1              1          4   \n",
       "2              2          5   \n",
       "3              3          6   \n",
       "4              4          7   \n",
       "...          ...        ...   \n",
       "6725        7601      10859   \n",
       "6726        7602      10860   \n",
       "6727        7603      10862   \n",
       "6728        7605      10864   \n",
       "6729        7606      10866   \n",
       "\n",
       "                                        text_normalized  target  \n",
       "0              deed reason earthquake may allah forgive       1  \n",
       "1                    forest fire near ronge sask canada       1  \n",
       "2     resident asked shelter place being notified of...       1  \n",
       "3     people receive wildfire evacuation order calif...       1  \n",
       "4     just photo ruby alaska smoke wildfire pours sc...       1  \n",
       "...                                                 ...     ...  \n",
       "6725  breaking refugio oil spill may costlier bigger...       1  \n",
       "6726        siren just went wasn forney tornado warning       1  \n",
       "6727  official say quarantine place alabama home pos...       1  \n",
       "6728    flip side walmart bomb evacuate stay tuned blow       1  \n",
       "6729  suicide bomber kill saudi security site mosque...       1  \n",
       "\n",
       "[6730 rows x 4 columns]"
      ]
     },
     "execution_count": 6,
     "metadata": {},
     "output_type": "execute_result"
    }
   ],
   "source": [
    "df_combine = pd.read_csv('./new_data/combine_accident_normalized_text.csv')\n",
    "df_combine"
   ]
  },
  {
   "cell_type": "code",
   "execution_count": null,
   "metadata": {},
   "outputs": [],
   "source": [
    "import spacy\n",
    "import re\n",
    "nlp = spacy.load('en_core_web_sm')"
   ]
  },
  {
   "cell_type": "code",
   "execution_count": 1,
   "metadata": {},
   "outputs": [
    {
     "ename": "",
     "evalue": "",
     "output_type": "error",
     "traceback": [
      "\u001b[1;31mCanceled future for execute_request message before replies were done"
     ]
    },
    {
     "ename": "",
     "evalue": "",
     "output_type": "error",
     "traceback": [
      "\u001b[1;31mThe Kernel crashed while executing code in the the current cell or a previous cell. Please review the code in the cell(s) to identify a possible cause of the failure. Click <a href='https://aka.ms/vscodeJupyterKernelCrash'>here</a> for more info. View Jupyter <a href='command:jupyter.viewOutput'>log</a> for further details."
     ]
    }
   ],
   "source": [
    "from tensorflow.keras.preprocessing.text import Tokenizer\n",
    "from tensorflow.keras.preprocessing.sequence import pad_sequences"
   ]
  },
  {
   "cell_type": "code",
   "execution_count": null,
   "metadata": {},
   "outputs": [],
   "source": [
    "max_features = 5334\n",
    "tokenizer = Tokenizer(num_words=max_features, split=' ')\n",
    "tokenizer.fit_on_texts(df_combine['text_normalized'].values)"
   ]
  }
 ],
 "metadata": {
  "kernelspec": {
   "display_name": "Python 3",
   "language": "python",
   "name": "python3"
  },
  "language_info": {
   "codemirror_mode": {
    "name": "ipython",
    "version": 3
   },
   "file_extension": ".py",
   "mimetype": "text/x-python",
   "name": "python",
   "nbconvert_exporter": "python",
   "pygments_lexer": "ipython3",
   "version": "3.9.13"
  },
  "orig_nbformat": 4
 },
 "nbformat": 4,
 "nbformat_minor": 2
}
