{
 "cells": [
  {
   "cell_type": "code",
   "execution_count": 6,
   "metadata": {},
   "outputs": [],
   "source": [
    "import pandas as pd \n",
    "import numpy as np "
   ]
  },
  {
   "cell_type": "code",
   "execution_count": 7,
   "metadata": {},
   "outputs": [],
   "source": [
    "#отображение всего датафрейма\n",
    "pd.set_option('display.max_rows', None)"
   ]
  },
  {
   "cell_type": "code",
   "execution_count": 8,
   "metadata": {},
   "outputs": [],
   "source": [
    "#отключить отображение всего датафрейма\n",
    "pd.reset_option('display.max_rows')"
   ]
  },
  {
   "cell_type": "code",
   "execution_count": 24,
   "metadata": {},
   "outputs": [
    {
     "name": "stdout",
     "output_type": "stream",
     "text": [
      "      Unnamed: 0  origin_id   \n",
      "0           5853       8364  \\\n",
      "1            140        201   \n",
      "2           7050      10101   \n",
      "3           2589       3717   \n",
      "4           5658       8070   \n",
      "...          ...        ...   \n",
      "5043        6520       9324   \n",
      "5044        1874       2693   \n",
      "5045        6563       9391   \n",
      "5046        2190       3138   \n",
      "5047         333        480   \n",
      "\n",
      "                                        text_normalized  target  \n",
      "0                               ruin holiday wordk zmne       0  \n",
      "1         awwww airplane accident gon na die cuties job       1  \n",
      "2                    think typhoon just passed here lol       1  \n",
      "3     flood people dead house destroyed kaduna peopl...       1  \n",
      "4                                length rescue cat need       0  \n",
      "...                                                 ...     ...  \n",
      "5043  help survive zombie apocalypse zombie fun run ...       0  \n",
      "5044                              men crush fucking day       0  \n",
      "5045      setsuko thurlow survived hiroshima bomb story       1  \n",
      "5046  kamindoz reuters debris confirmed relative hop...       1  \n",
      "5047    sadly window reveals microsoft ethic armageddon       0  \n",
      "\n",
      "[5048 rows x 4 columns]       Unnamed: 0  origin_id   \n",
      "0              2          5  \\\n",
      "1              3          6   \n",
      "2              4          7   \n",
      "3              5          8   \n",
      "4              9         15   \n",
      "...          ...        ...   \n",
      "1677        7586      10840   \n",
      "1678        7587      10841   \n",
      "1679        7589      10843   \n",
      "1680        7591      10846   \n",
      "1681        7594      10849   \n",
      "\n",
      "                                        text_normalized  target  \n",
      "0     resident asked shelter place being notified of...       1  \n",
      "1     people receive wildfire evacuation order calif...       1  \n",
      "2     just photo ruby alaska smoke wildfire pours sc...       1  \n",
      "3     rockyfire update california hwy closed directi...       1  \n",
      "4                            afraid tornado coming area       1  \n",
      "...                                                 ...     ...  \n",
      "1677  sismo detectado jap seismic intensity iwate mi...       1  \n",
      "1678                                              siren       0  \n",
      "1679                                     omg earthquake       1  \n",
      "1680  heat wave warning ayyo dei just plan visit fri...       1  \n",
      "1681  gas just exploded heard scream now whole stree...       1  \n",
      "\n",
      "[1682 rows x 4 columns]\n"
     ]
    }
   ],
   "source": [
    "df_train = pd.read_csv('./new_data/train_accident_normalized_text.csv')\n",
    "df_test = pd.read_csv('./new_data/test_accident_normalized_text.csv')\n",
    "print(df_train, df_test)"
   ]
  },
  {
   "cell_type": "code",
   "execution_count": 10,
   "metadata": {},
   "outputs": [
    {
     "name": "stdout",
     "output_type": "stream",
     "text": [
      "Unnamed: 0          int64\n",
      "origin_id           int64\n",
      "text_normalized    object\n",
      "target              int64\n",
      "dtype: object\n",
      "Unnamed: 0          int64\n",
      "origin_id           int64\n",
      "text_normalized    object\n",
      "target              int64\n",
      "dtype: object\n"
     ]
    }
   ],
   "source": [
    "print(df_test.dtypes)\n",
    "print(df_train.dtypes)"
   ]
  },
  {
   "cell_type": "code",
   "execution_count": 11,
   "metadata": {},
   "outputs": [
    {
     "data": {
      "text/html": [
       "<div>\n",
       "<style scoped>\n",
       "    .dataframe tbody tr th:only-of-type {\n",
       "        vertical-align: middle;\n",
       "    }\n",
       "\n",
       "    .dataframe tbody tr th {\n",
       "        vertical-align: top;\n",
       "    }\n",
       "\n",
       "    .dataframe thead th {\n",
       "        text-align: right;\n",
       "    }\n",
       "</style>\n",
       "<table border=\"1\" class=\"dataframe\">\n",
       "  <thead>\n",
       "    <tr style=\"text-align: right;\">\n",
       "      <th></th>\n",
       "      <th>Unnamed: 0</th>\n",
       "      <th>origin_id</th>\n",
       "      <th>text_normalized</th>\n",
       "      <th>target</th>\n",
       "    </tr>\n",
       "  </thead>\n",
       "  <tbody>\n",
       "    <tr>\n",
       "      <th>0</th>\n",
       "      <td>0</td>\n",
       "      <td>1</td>\n",
       "      <td>deed reason earthquake may allah forgive</td>\n",
       "      <td>1</td>\n",
       "    </tr>\n",
       "    <tr>\n",
       "      <th>1</th>\n",
       "      <td>1</td>\n",
       "      <td>4</td>\n",
       "      <td>forest fire near ronge sask canada</td>\n",
       "      <td>1</td>\n",
       "    </tr>\n",
       "    <tr>\n",
       "      <th>2</th>\n",
       "      <td>2</td>\n",
       "      <td>5</td>\n",
       "      <td>resident asked shelter place being notified of...</td>\n",
       "      <td>1</td>\n",
       "    </tr>\n",
       "    <tr>\n",
       "      <th>3</th>\n",
       "      <td>3</td>\n",
       "      <td>6</td>\n",
       "      <td>people receive wildfire evacuation order calif...</td>\n",
       "      <td>1</td>\n",
       "    </tr>\n",
       "    <tr>\n",
       "      <th>4</th>\n",
       "      <td>4</td>\n",
       "      <td>7</td>\n",
       "      <td>just photo ruby alaska smoke wildfire pours sc...</td>\n",
       "      <td>1</td>\n",
       "    </tr>\n",
       "    <tr>\n",
       "      <th>...</th>\n",
       "      <td>...</td>\n",
       "      <td>...</td>\n",
       "      <td>...</td>\n",
       "      <td>...</td>\n",
       "    </tr>\n",
       "    <tr>\n",
       "      <th>6725</th>\n",
       "      <td>7601</td>\n",
       "      <td>10859</td>\n",
       "      <td>breaking refugio oil spill may costlier bigger...</td>\n",
       "      <td>1</td>\n",
       "    </tr>\n",
       "    <tr>\n",
       "      <th>6726</th>\n",
       "      <td>7602</td>\n",
       "      <td>10860</td>\n",
       "      <td>siren just went wasn forney tornado warning</td>\n",
       "      <td>1</td>\n",
       "    </tr>\n",
       "    <tr>\n",
       "      <th>6727</th>\n",
       "      <td>7603</td>\n",
       "      <td>10862</td>\n",
       "      <td>official say quarantine place alabama home pos...</td>\n",
       "      <td>1</td>\n",
       "    </tr>\n",
       "    <tr>\n",
       "      <th>6728</th>\n",
       "      <td>7605</td>\n",
       "      <td>10864</td>\n",
       "      <td>flip side walmart bomb evacuate stay tuned blow</td>\n",
       "      <td>1</td>\n",
       "    </tr>\n",
       "    <tr>\n",
       "      <th>6729</th>\n",
       "      <td>7606</td>\n",
       "      <td>10866</td>\n",
       "      <td>suicide bomber kill saudi security site mosque...</td>\n",
       "      <td>1</td>\n",
       "    </tr>\n",
       "  </tbody>\n",
       "</table>\n",
       "<p>6730 rows × 4 columns</p>\n",
       "</div>"
      ],
      "text/plain": [
       "      Unnamed: 0  origin_id   \n",
       "0              0          1  \\\n",
       "1              1          4   \n",
       "2              2          5   \n",
       "3              3          6   \n",
       "4              4          7   \n",
       "...          ...        ...   \n",
       "6725        7601      10859   \n",
       "6726        7602      10860   \n",
       "6727        7603      10862   \n",
       "6728        7605      10864   \n",
       "6729        7606      10866   \n",
       "\n",
       "                                        text_normalized  target  \n",
       "0              deed reason earthquake may allah forgive       1  \n",
       "1                    forest fire near ronge sask canada       1  \n",
       "2     resident asked shelter place being notified of...       1  \n",
       "3     people receive wildfire evacuation order calif...       1  \n",
       "4     just photo ruby alaska smoke wildfire pours sc...       1  \n",
       "...                                                 ...     ...  \n",
       "6725  breaking refugio oil spill may costlier bigger...       1  \n",
       "6726        siren just went wasn forney tornado warning       1  \n",
       "6727  official say quarantine place alabama home pos...       1  \n",
       "6728    flip side walmart bomb evacuate stay tuned blow       1  \n",
       "6729  suicide bomber kill saudi security site mosque...       1  \n",
       "\n",
       "[6730 rows x 4 columns]"
      ]
     },
     "execution_count": 11,
     "metadata": {},
     "output_type": "execute_result"
    }
   ],
   "source": [
    "df_combine = pd.read_csv('./new_data/combine_accident_normalized_text.csv')\n",
    "df_combine"
   ]
  },
  {
   "cell_type": "code",
   "execution_count": 12,
   "metadata": {},
   "outputs": [
    {
     "data": {
      "text/plain": [
       "<Axes: xlabel='target'>"
      ]
     },
     "execution_count": 12,
     "metadata": {},
     "output_type": "execute_result"
    },
    {
     "data": {
      "image/png": "[encoded data removed]",
      "text/plain": [
       "<Figure size 640x480 with 1 Axes>"
      ]
     },
     "metadata": {},
     "output_type": "display_data"
    }
   ],
   "source": [
    "df_combine.groupby('target').count().plot(kind='bar')"
   ]
  },
  {
   "cell_type": "code",
   "execution_count": 25,
   "metadata": {},
   "outputs": [],
   "source": [
    "import nltk\n",
    "from nltk.tokenize import word_tokenize\n",
    "\n",
    "from nltk.stem.snowball import SnowballStemmer\n",
    "from sklearn.feature_extraction.text import TfidfVectorizer"
   ]
  },
  {
   "cell_type": "code",
   "execution_count": 26,
   "metadata": {},
   "outputs": [],
   "source": [
    "def tokenize(text):\n",
    "  return [token for token in word_tokenize(text)]"
   ]
  },
  {
   "cell_type": "code",
   "execution_count": 27,
   "metadata": {},
   "outputs": [],
   "source": [
    "from sklearn.feature_extraction.text import CountVectorizer, TfidfVectorizer"
   ]
  },
  {
   "cell_type": "code",
   "execution_count": 28,
   "metadata": {},
   "outputs": [],
   "source": [
    "#Vectorization\n",
    "\n",
    "vectorizer = TfidfVectorizer()\n",
    "X_train = vectorizer.fit_transform(df_train['text_normalized'])\n",
    "y_train = df_train['target']\n",
    "X_test = vectorizer.transform(df_test['text_normalized'])"
   ]
  },
  {
   "cell_type": "code",
   "execution_count": 29,
   "metadata": {},
   "outputs": [],
   "source": [
    "#Importing required libraries\n",
    "from sklearn.model_selection import train_test_split\n",
    "from sklearn.linear_model import LogisticRegression"
   ]
  },
  {
   "cell_type": "code",
   "execution_count": 30,
   "metadata": {},
   "outputs": [],
   "source": [
    "#Splitting train data into train and validation sets\n",
    "X_train, X_val, y_train, y_val = train_test_split(X_train, y_train, test_size=0.2, random_state=42)"
   ]
  },
  {
   "cell_type": "code",
   "execution_count": 31,
   "metadata": {},
   "outputs": [
    {
     "data": {
      "text/html": [
       "<style>#sk-container-id-2 {color: black;background-color: white;}#sk-container-id-2 pre{padding: 0;}#sk-container-id-2 div.sk-toggleable {background-color: white;}#sk-container-id-2 label.sk-toggleable__label {cursor: pointer;display: block;width: 100%;margin-bottom: 0;padding: 0.3em;box-sizing: border-box;text-align: center;}#sk-container-id-2 label.sk-toggleable__label-arrow:before {content: \"▸\";float: left;margin-right: 0.25em;color: #696969;}#sk-container-id-2 label.sk-toggleable__label-arrow:hover:before {color: black;}#sk-container-id-2 div.sk-estimator:hover label.sk-toggleable__label-arrow:before {color: black;}#sk-container-id-2 div.sk-toggleable__content {max-height: 0;max-width: 0;overflow: hidden;text-align: left;background-color: #f0f8ff;}#sk-container-id-2 div.sk-toggleable__content pre {margin: 0.2em;color: black;border-radius: 0.25em;background-color: #f0f8ff;}#sk-container-id-2 input.sk-toggleable__control:checked~div.sk-toggleable__content {max-height: 200px;max-width: 100%;overflow: auto;}#sk-container-id-2 input.sk-toggleable__control:checked~label.sk-toggleable__label-arrow:before {content: \"▾\";}#sk-container-id-2 div.sk-estimator input.sk-toggleable__control:checked~label.sk-toggleable__label {background-color: #d4ebff;}#sk-container-id-2 div.sk-label input.sk-toggleable__control:checked~label.sk-toggleable__label {background-color: #d4ebff;}#sk-container-id-2 input.sk-hidden--visually {border: 0;clip: rect(1px 1px 1px 1px);clip: rect(1px, 1px, 1px, 1px);height: 1px;margin: -1px;overflow: hidden;padding: 0;position: absolute;width: 1px;}#sk-container-id-2 div.sk-estimator {font-family: monospace;background-color: #f0f8ff;border: 1px dotted black;border-radius: 0.25em;box-sizing: border-box;margin-bottom: 0.5em;}#sk-container-id-2 div.sk-estimator:hover {background-color: #d4ebff;}#sk-container-id-2 div.sk-parallel-item::after {content: \"\";width: 100%;border-bottom: 1px solid gray;flex-grow: 1;}#sk-container-id-2 div.sk-label:hover label.sk-toggleable__label {background-color: #d4ebff;}#sk-container-id-2 div.sk-serial::before {content: \"\";position: absolute;border-left: 1px solid gray;box-sizing: border-box;top: 0;bottom: 0;left: 50%;z-index: 0;}#sk-container-id-2 div.sk-serial {display: flex;flex-direction: column;align-items: center;background-color: white;padding-right: 0.2em;padding-left: 0.2em;position: relative;}#sk-container-id-2 div.sk-item {position: relative;z-index: 1;}#sk-container-id-2 div.sk-parallel {display: flex;align-items: stretch;justify-content: center;background-color: white;position: relative;}#sk-container-id-2 div.sk-item::before, #sk-container-id-2 div.sk-parallel-item::before {content: \"\";position: absolute;border-left: 1px solid gray;box-sizing: border-box;top: 0;bottom: 0;left: 50%;z-index: -1;}#sk-container-id-2 div.sk-parallel-item {display: flex;flex-direction: column;z-index: 1;position: relative;background-color: white;}#sk-container-id-2 div.sk-parallel-item:first-child::after {align-self: flex-end;width: 50%;}#sk-container-id-2 div.sk-parallel-item:last-child::after {align-self: flex-start;width: 50%;}#sk-container-id-2 div.sk-parallel-item:only-child::after {width: 0;}#sk-container-id-2 div.sk-dashed-wrapped {border: 1px dashed gray;margin: 0 0.4em 0.5em 0.4em;box-sizing: border-box;padding-bottom: 0.4em;background-color: white;}#sk-container-id-2 div.sk-label label {font-family: monospace;font-weight: bold;display: inline-block;line-height: 1.2em;}#sk-container-id-2 div.sk-label-container {text-align: center;}#sk-container-id-2 div.sk-container {/* jupyter's `normalize.less` sets `[hidden] { display: none; }` but bootstrap.min.css set `[hidden] { display: none !important; }` so we also need the `!important` here to be able to override the default hidden behavior on the sphinx rendered scikit-learn.org. See: https://github.com/scikit-learn/scikit-learn/issues/21755 */display: inline-block !important;position: relative;}#sk-container-id-2 div.sk-text-repr-fallback {display: none;}</style><div id=\"sk-container-id-2\" class=\"sk-top-container\"><div class=\"sk-text-repr-fallback\"><pre>LogisticRegression(random_state=42)</pre><b>In a Jupyter environment, please rerun this cell to show the HTML representation or trust the notebook. <br />On GitHub, the HTML representation is unable to render, please try loading this page with nbviewer.org.</b></div><div class=\"sk-container\" hidden><div class=\"sk-item\"><div class=\"sk-estimator sk-toggleable\"><input class=\"sk-toggleable__control sk-hidden--visually\" id=\"sk-estimator-id-2\" type=\"checkbox\" checked><label for=\"sk-estimator-id-2\" class=\"sk-toggleable__label sk-toggleable__label-arrow\">LogisticRegression</label><div class=\"sk-toggleable__content\"><pre>LogisticRegression(random_state=42)</pre></div></div></div></div></div>"
      ],
      "text/plain": [
       "LogisticRegression(random_state=42)"
      ]
     },
     "execution_count": 31,
     "metadata": {},
     "output_type": "execute_result"
    }
   ],
   "source": [
    "# Train logistic regression model\n",
    "lr_model = LogisticRegression(random_state=42)\n",
    "lr_model.fit(X_train, y_train)"
   ]
  },
  {
   "cell_type": "code",
   "execution_count": 32,
   "metadata": {},
   "outputs": [
    {
     "name": "stdout",
     "output_type": "stream",
     "text": [
      "Validation accuracy: 0.7891089108910891\n"
     ]
    }
   ],
   "source": [
    "# Predict on validation set and calculate accuracy\n",
    "from sklearn.metrics import accuracy_score\n",
    "\n",
    "y_pred_val = lr_model.predict(X_val)\n",
    "val_accuracy = accuracy_score(y_val, y_pred_val)\n",
    "print('Validation accuracy:', val_accuracy)"
   ]
  },
  {
   "attachments": {},
   "cell_type": "markdown",
   "metadata": {},
   "source": [
    "%%%%%%%%%%%%%%%%%%%%%%%%%%%%%%%footer%%%%%%%%%%%%%%%%%%%%%%%%%%%%%%%%%%%%%%%%"
   ]
  },
  {
   "cell_type": "code",
   "execution_count": 9,
   "metadata": {},
   "outputs": [
    {
     "data": {
      "text/plain": [
       "<Axes: >"
      ]
     },
     "execution_count": 9,
     "metadata": {},
     "output_type": "execute_result"
    },
    {
     "data": {
      "image/png": "[encoded data removed]",
      "text/plain": [
       "<Figure size 640x480 with 1 Axes>"
      ]
     },
     "metadata": {},
     "output_type": "display_data"
    }
   ],
   "source": [
    "# Calculate tweet lengths\n",
    "tweet_len = pd.Series([len(tweet.split()) for tweet in df_combine['text_normalized']])\n",
    "\n",
    "# The distribution of tweet text lengths\n",
    "tweet_len.plot(kind='box')"
   ]
  },
  {
   "cell_type": "code",
   "execution_count": 10,
   "metadata": {},
   "outputs": [],
   "source": [
    "import re"
   ]
  },
  {
   "cell_type": "code",
   "execution_count": 11,
   "metadata": {},
   "outputs": [],
   "source": [
    "import nltk  #natural language processing\n",
    "from nltk.stem.porter import *"
   ]
  },
  {
   "cell_type": "code",
   "execution_count": 12,
   "metadata": {},
   "outputs": [],
   "source": [
    "from sklearn.model_selection import train_test_split"
   ]
  },
  {
   "cell_type": "code",
   "execution_count": 13,
   "metadata": {},
   "outputs": [],
   "source": [
    "def tweet_to_words(tweet):\n",
    "    ''' Convert tweet text into a sequence of words '''\n",
    "    \n",
    "    # convert to lowercase\n",
    "    text = tweet.lower()\n",
    "    # remove non letters\n",
    "    text = re.sub(r\"[^a-zA-Z0-9]\", \" \", text)\n",
    "    # tokenize\n",
    "    words = text.split()\n",
    "    # apply stemming\n",
    "    words = [PorterStemmer().stem(w) for w in words]\n",
    "    # return list\n",
    "    return words"
   ]
  },
  {
   "cell_type": "code",
   "execution_count": 14,
   "metadata": {},
   "outputs": [],
   "source": [
    "X = list(map(tweet_to_words, df_combine['text_normalized']))\n",
    "y = df_combine['target']\n",
    "X_train, X_test, y_train, y_test = train_test_split(X, y, test_size=0.25, random_state=42)\n",
    "X_train, X_val, y_train, y_val = train_test_split(X_train, y_train, test_size=0.25, random_state=42)"
   ]
  },
  {
   "cell_type": "code",
   "execution_count": 15,
   "metadata": {},
   "outputs": [
    {
     "name": "stdout",
     "output_type": "stream",
     "text": [
      "6730\n",
      "6730\n",
      "3785\n",
      "3785\n",
      "1683\n",
      "1683\n",
      "1262\n",
      "1262\n",
      "['nurs', 'alert', 'emerg', 'depart', 'psychiatr', 'fte', 'day', 'provid', 'health', 'servic', 'olympia']\n",
      "['ruin', 'holiday', 'wordk', 'zmne']\n"
     ]
    }
   ],
   "source": [
    "print(len(X))\n",
    "print(len(y))\n",
    "print(len(X_train))\n",
    "print(len(y_train))\n",
    "print(len(X_test))\n",
    "print(len(y_test))\n",
    "print(len(X_val))\n",
    "print(len(y_val))\n",
    "print(X_train[0])\n",
    "print(X_test[0])"
   ]
  },
  {
   "cell_type": "code",
   "execution_count": 16,
   "metadata": {},
   "outputs": [],
   "source": [
    "from sklearn.feature_extraction.text import CountVectorizer"
   ]
  },
  {
   "cell_type": "code",
   "execution_count": 17,
   "metadata": {},
   "outputs": [
    {
     "name": "stderr",
     "output_type": "stream",
     "text": [
      "/Library/Frameworks/Python.framework/Versions/3.9/lib/python3.9/site-packages/sklearn/feature_extraction/text.py:528: UserWarning: The parameter 'token_pattern' will not be used since 'tokenizer' is not None'\n",
      "  warnings.warn(\n"
     ]
    }
   ],
   "source": [
    "vocabulary_size = 5000\n",
    "\n",
    "# Tweets have already been preprocessed hence dummy function will be passed in \n",
    "# to preprocessor & tokenizer step\n",
    "count_vector = CountVectorizer(max_features=vocabulary_size,\n",
    "#                               ngram_range=(1,2),    # unigram and bigram\n",
    "                                preprocessor=lambda x: x,\n",
    "                               tokenizer=lambda x: x) \n",
    "#tfidf_vector = TfidfVectorizer(lowercase=True, stop_words='english')\n",
    "\n",
    "# Fit the training data\n",
    "X_train = count_vector.fit_transform(X_train).toarray()\n",
    "\n",
    "# Transform testing data\n",
    "X_test = count_vector.transform(X_test).toarray()"
   ]
  },
  {
   "cell_type": "code",
   "execution_count": 18,
   "metadata": {},
   "outputs": [
    {
     "name": "stdout",
     "output_type": "stream",
     "text": [
      "['aaaaaand' 'abandon' 'abbott' 'abc' 'abe' 'abl' 'ablaz' 'abort' 'absolut'\n",
      " 'abstorm' 'abus' 'acc' 'accept' 'access' 'accid' 'accident' 'accord'\n",
      " 'account' 'acid' 'acoust' 'acr' 'across' 'act' 'action' 'activ' 'actual'\n",
      " 'ad' 'adam' 'add' 'addict' 'address' 'administr' 'admit' 'adopt' 'adult'\n",
      " 'advanc' 'adventur' 'advisori' 'affect' 'afghanistan' 'afp' 'afraid'\n",
      " 'africa' 'african' 'afternoon' 'aftershock' 'age' 'agenc' 'agent'\n",
      " 'aggress' 'ago' 'agre' 'ahead' 'ahh' 'aim' 'air' 'aircraft' 'airlin'\n",
      " 'airplan' 'airport' 'aka' 'alabama' 'alarm' 'alberta' 'album' 'alcohol'\n",
      " 'alert' 'alex' 'alien' 'aliv' 'allah' 'alleg' 'alli' 'allow' 'alon' 'alp'\n",
      " 'altern' 'amageddon' 'amaz' 'amazon' 'ambul' 'america' 'american'\n",
      " 'amsterdam' 'analysi' 'ancient' 'andrew' 'angel' 'anger' 'angri' 'anim'\n",
      " 'animalrescu' 'ankl' 'annihil' 'anniversari' 'announc' 'annoy' 'annual'\n",
      " 'answer' 'ant' 'anthrax' 'anti' 'antioch' 'anymor' 'anyway' 'anza'\n",
      " 'apart' 'apc' 'apch' 'apocalyps' 'apocalypt' 'apollo' 'app' 'appar'\n",
      " 'appl' 'appli' 'applic' 'appreci' 'approach' 'appropri' 'approv' 'april'\n",
      " 'apt' 'arabia' 'arabian' 'area' 'aren' 'argu' 'argument' 'arizona' 'arm'\n",
      " 'armageddon' 'armi' 'arnhem' 'arrest' 'arriv' 'arsen' 'arson' 'arsonist'\n",
      " 'art' 'articl' 'artifici' 'artist' 'arwx' 'as' 'asap' 'ash' 'asia' 'ask'\n",
      " 'askcharley' 'asleep' 'assist' 'astrolog' 'asylum' 'athlet' 'atlant'\n",
      " 'atlanta' 'atmospher' 'atom' 'attack' 'attempt' 'attend' 'attent' 'attic'\n",
      " 'attitud' 'auckland' 'auction' 'audienc' 'audio' 'aug' 'august' 'aunt'\n",
      " 'auspol' 'aussi' 'australia' 'australian' 'author' 'autist' 'auto'\n",
      " 'autoinsur' 'autom' 'automat' 'avalanch' 'ave' 'avenu' 'averag' 'avert'\n",
      " 'aviat' 'avoid' 'aw' 'await' 'awar' 'away' 'awesom' 'babi' 'back'\n",
      " 'background' 'backup' 'backyard' 'bad' 'badg' 'bag' 'bago' 'bail' 'bake'\n",
      " 'bakeofffriend' 'bal' 'ball' 'baltimor' 'ban' 'bancodeseri' 'band' 'bang'\n",
      " 'bank' 'bar' 'barack' 'bare' 'bargain' 'barn' 'barri' 'base' 'basebal'\n",
      " 'bash' 'basi' 'basic' 'bat' 'bath' 'bathroom' 'batter' 'batteri' 'battl'\n",
      " 'battlefield' 'bay' 'bayelsa' 'bbc' 'bbcnew' 'be' 'beach' 'bear' 'beard'\n",
      " 'beat' 'beauti' 'bed' 'bedroom' 'bee' 'beer' 'beforeitsnew' 'beg' 'began'\n",
      " 'begin' 'behalf' 'believ' 'bell' 'belong' 'belt' 'ben' 'bend' 'benefit'\n",
      " 'bernardino' 'best' 'bestnaijamad' 'bet' 'betray' 'bid' 'bieber' 'big'\n",
      " 'bigamist' 'bigger' 'biggest' 'bike' 'biker' 'bill' 'billboard' 'billion'\n",
      " 'bin' 'biolog' 'bioterror' 'bird' 'birmingham' 'birthday' 'bistro' 'bit'\n",
      " 'bitch' 'bite' 'bjp' 'black' 'blacklivesmatt' 'blake' 'blame' 'blast'\n",
      " 'blaze' 'bleed' 'bless' 'blew' 'blight' 'blind' 'blink' 'blizzard' 'blk'\n",
      " 'block' 'blog' 'blood' 'bloodi' 'bloomberg' 'blow' 'blown' 'blue'\n",
      " 'bluejay' 'blvd' 'bmw' 'bo' 'board' 'boat' 'bob' 'bodi' 'bolster' 'bomb'\n",
      " 'bomber' 'bone' 'book' 'boot' 'border' 'bore' 'boston' 'bother' 'bottl'\n",
      " 'bottom' 'bought' 'bound' 'boundari' 'bounti' 'bout' 'bowl' 'box' 'boxer'\n",
      " 'boy' 'brain' 'brake' 'brave' 'brazil' 'bread' 'break' 'breath' 'brian'\n",
      " 'bride' 'bridg' 'brief' 'brighton' 'bring' 'brit' 'british' 'bro' 'broad'\n",
      " 'broadcast' 'brock' 'broke' 'broken' 'bronx' 'brooklyn' 'brother'\n",
      " 'brought' 'brown' 'bruh' 'brunett' 'brush' 'bt' 'btw' 'bu' 'buckl'\n",
      " 'budget' 'buffalo' 'bug' 'build' 'bull' 'bullet' 'bummer' 'bump' 'bundl'\n",
      " 'buri' 'burn' 'burst' 'bush' 'busi' 'butter' 'button' 'buy' 'bwp'\n",
      " 'bypass' 'cabin' 'cabl' 'cafir' 'cain' 'cake' 'calam' 'calgari' 'calif'\n",
      " 'california' 'call' 'calm' 'calori' 'came' 'cameroon' 'camp' 'campaign'\n",
      " 'campu' 'can' 'canada' 'cancel' 'cancer' 'candi' 'candl' 'canyon' 'cap'\n",
      " 'capit' 'capsiz' 'captain' 'captur' 'car' 'card' 'care' 'career' 'cargo'\n",
      " 'carr' 'carri' 'cart' 'case' 'casual' 'casualti' 'cat' 'catastroph'\n",
      " 'catch' 'catfish' 'caught' 'caus' 'cave' 'cawx' 'cb' 'cdc' 'cecilthelion'\n",
      " 'celebr' 'center' 'centr' 'central' 'ceo' 'certainli' 'certif' 'certifi'\n",
      " 'chain' 'chair' 'chairman' 'challeng' 'championship' 'chan' 'chanc'\n",
      " 'chang' 'channel' 'chao' 'charact' 'charg' 'charger' 'charl' 'charli'\n",
      " 'chart' 'chat' 'cheap' 'check' 'chees' 'chelsea' 'chemic' 'cherri'\n",
      " 'chevrolet' 'chicago' 'chicken' 'chief' 'child' 'childhood' 'chile'\n",
      " 'chill' 'china' 'chines' 'chocol' 'choic' 'choke' 'chonc' 'chosen'\n",
      " 'christ' 'christian' 'christma' 'chronicl' 'chunk' 'church' 'cia'\n",
      " 'cigarett' 'cinema' 'circl' 'circu' 'cite' 'citi' 'citizen' 'civil']\n"
     ]
    }
   ],
   "source": [
    "# print first 200 words/tokens\n",
    "print(count_vector.get_feature_names_out()[0:500])"
   ]
  }
 ],
 "metadata": {
  "kernelspec": {
   "display_name": "Python 3",
   "language": "python",
   "name": "python3"
  },
  "language_info": {
   "codemirror_mode": {
    "name": "ipython",
    "version": 3
   },
   "file_extension": ".py",
   "mimetype": "text/x-python",
   "name": "python",
   "nbconvert_exporter": "python",
   "pygments_lexer": "ipython3",
   "version": "3.9.13"
  },
  "orig_nbformat": 4
 },
 "nbformat": 4,
 "nbformat_minor": 2
}
